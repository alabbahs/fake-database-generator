{
 "cells": [
  {
   "cell_type": "code",
   "execution_count": 32,
   "id": "86f661fc",
   "metadata": {},
   "outputs": [],
   "source": [
    "import pandas as pd"
   ]
  },
  {
   "cell_type": "code",
   "execution_count": 33,
   "id": "93b5bba6",
   "metadata": {},
   "outputs": [],
   "source": [
    "df_data = pd.read_csv('data/database_csvs/data.csv', encoding='ISO-8859-1')\n",
    "df_stats = pd.read_csv('data/database_csvs/data_stats.csv')\n",
    "df_stats.rename(columns={\"Column\": \"column_name\", \"TableName\": \"table_name\"}, inplace=True)\n"
   ]
  },
  {
   "cell_type": "code",
   "execution_count": 34,
   "id": "7186d790",
   "metadata": {},
   "outputs": [
    {
     "data": {
      "application/vnd.microsoft.datawrangler.viewer.v0+json": {
       "columns": [
        {
         "name": "index",
         "rawType": "int64",
         "type": "integer"
        },
        {
         "name": "table_catalog",
         "rawType": "object",
         "type": "string"
        },
        {
         "name": "table_schema",
         "rawType": "object",
         "type": "string"
        },
        {
         "name": "table_name",
         "rawType": "object",
         "type": "string"
        },
        {
         "name": "column_name",
         "rawType": "object",
         "type": "string"
        },
        {
         "name": "ordinal_position",
         "rawType": "int64",
         "type": "integer"
        },
        {
         "name": "column_default",
         "rawType": "float64",
         "type": "float"
        },
        {
         "name": "is_nullable",
         "rawType": "object",
         "type": "string"
        },
        {
         "name": "full_data_type",
         "rawType": "object",
         "type": "string"
        },
        {
         "name": "data_type",
         "rawType": "object",
         "type": "string"
        },
        {
         "name": "character_maximum_length",
         "rawType": "float64",
         "type": "float"
        },
        {
         "name": "character_octet_length",
         "rawType": "float64",
         "type": "float"
        },
        {
         "name": "numeric_precision",
         "rawType": "float64",
         "type": "float"
        },
        {
         "name": "numeric_precision_radix",
         "rawType": "float64",
         "type": "float"
        },
        {
         "name": "numeric_scale",
         "rawType": "float64",
         "type": "float"
        },
        {
         "name": "datetime_precision",
         "rawType": "float64",
         "type": "float"
        },
        {
         "name": "interval_type",
         "rawType": "float64",
         "type": "float"
        },
        {
         "name": "interval_precision",
         "rawType": "float64",
         "type": "float"
        },
        {
         "name": "maximum_cardinality",
         "rawType": "float64",
         "type": "float"
        },
        {
         "name": "is_identity",
         "rawType": "object",
         "type": "string"
        },
        {
         "name": "identity_generation",
         "rawType": "float64",
         "type": "float"
        },
        {
         "name": "identity_start",
         "rawType": "float64",
         "type": "float"
        },
        {
         "name": "identity_increment",
         "rawType": "float64",
         "type": "float"
        },
        {
         "name": "identity_maximum",
         "rawType": "float64",
         "type": "float"
        },
        {
         "name": "identity_minimum",
         "rawType": "float64",
         "type": "float"
        },
        {
         "name": "identity_cycle",
         "rawType": "float64",
         "type": "float"
        },
        {
         "name": "is_generated",
         "rawType": "object",
         "type": "string"
        },
        {
         "name": "generation_expression",
         "rawType": "float64",
         "type": "float"
        },
        {
         "name": "is_system_time_period_start",
         "rawType": "object",
         "type": "string"
        },
        {
         "name": "is_system_time_period_end",
         "rawType": "object",
         "type": "string"
        },
        {
         "name": "system_time_period_timestamp_generation",
         "rawType": "float64",
         "type": "float"
        },
        {
         "name": "is_updatable",
         "rawType": "object",
         "type": "string"
        },
        {
         "name": "partition_index",
         "rawType": "float64",
         "type": "float"
        },
        {
         "name": "comment",
         "rawType": "object",
         "type": "unknown"
        }
       ],
       "conversionMethod": "pd.DataFrame",
       "ref": "720f9b4e-4e25-441f-99fb-8f993373b51c",
       "rows": [
        [
         "0",
         "domgen_prod",
         "analysis_sandbox",
         "20240819_wp_mid_email_after_dedupe",
         "PersonGoldenCopyID",
         "0",
         null,
         "YES",
         "bigint",
         "LONG",
         null,
         null,
         null,
         null,
         null,
         null,
         null,
         null,
         null,
         "NO",
         null,
         null,
         null,
         null,
         null,
         null,
         "NO",
         null,
         "NO",
         "NO",
         null,
         "YES",
         null,
         null
        ],
        [
         "1",
         "domgen_prod",
         "analysis_sandbox",
         "20240819_wp_mid_email_after_dedupe",
         "PersonDimensionID",
         "1",
         null,
         "YES",
         "bigint",
         "LONG",
         null,
         null,
         null,
         null,
         null,
         null,
         null,
         null,
         null,
         "NO",
         null,
         null,
         null,
         null,
         null,
         null,
         "NO",
         null,
         "NO",
         "NO",
         null,
         "YES",
         null,
         null
        ],
        [
         "2",
         "domgen_prod",
         "analysis_sandbox",
         "20240819_wp_mid_email_end",
         "PERSONGOLDENCOPYID",
         "0",
         null,
         "YES",
         "bigint",
         "LONG",
         null,
         null,
         null,
         null,
         null,
         null,
         null,
         null,
         null,
         "NO",
         null,
         null,
         null,
         null,
         null,
         null,
         "NO",
         null,
         "NO",
         "NO",
         null,
         "YES",
         null,
         null
        ],
        [
         "3",
         "domgen_prod",
         "analysis_sandbox",
         "20240819_wp_mid_email_end",
         "PERSONDIMENSIONID",
         "1",
         null,
         "YES",
         "bigint",
         "LONG",
         null,
         null,
         null,
         null,
         null,
         null,
         null,
         null,
         null,
         "NO",
         null,
         null,
         null,
         null,
         null,
         null,
         "NO",
         null,
         "NO",
         "NO",
         null,
         "YES",
         null,
         null
        ],
        [
         "4",
         "domgen_prod",
         "analysis_sandbox",
         "ac_dm_clm_reporting",
         "offer_month",
         "0",
         null,
         "YES",
         "date",
         "DATE",
         null,
         null,
         null,
         null,
         null,
         null,
         null,
         null,
         null,
         "NO",
         null,
         null,
         null,
         null,
         null,
         null,
         "NO",
         null,
         "NO",
         "NO",
         null,
         "YES",
         null,
         null
        ]
       ],
       "shape": {
        "columns": 33,
        "rows": 5
       }
      },
      "text/html": [
       "<div>\n",
       "<style scoped>\n",
       "    .dataframe tbody tr th:only-of-type {\n",
       "        vertical-align: middle;\n",
       "    }\n",
       "\n",
       "    .dataframe tbody tr th {\n",
       "        vertical-align: top;\n",
       "    }\n",
       "\n",
       "    .dataframe thead th {\n",
       "        text-align: right;\n",
       "    }\n",
       "</style>\n",
       "<table border=\"1\" class=\"dataframe\">\n",
       "  <thead>\n",
       "    <tr style=\"text-align: right;\">\n",
       "      <th></th>\n",
       "      <th>table_catalog</th>\n",
       "      <th>table_schema</th>\n",
       "      <th>table_name</th>\n",
       "      <th>column_name</th>\n",
       "      <th>ordinal_position</th>\n",
       "      <th>column_default</th>\n",
       "      <th>is_nullable</th>\n",
       "      <th>full_data_type</th>\n",
       "      <th>data_type</th>\n",
       "      <th>character_maximum_length</th>\n",
       "      <th>...</th>\n",
       "      <th>identity_minimum</th>\n",
       "      <th>identity_cycle</th>\n",
       "      <th>is_generated</th>\n",
       "      <th>generation_expression</th>\n",
       "      <th>is_system_time_period_start</th>\n",
       "      <th>is_system_time_period_end</th>\n",
       "      <th>system_time_period_timestamp_generation</th>\n",
       "      <th>is_updatable</th>\n",
       "      <th>partition_index</th>\n",
       "      <th>comment</th>\n",
       "    </tr>\n",
       "  </thead>\n",
       "  <tbody>\n",
       "    <tr>\n",
       "      <th>0</th>\n",
       "      <td>domgen_prod</td>\n",
       "      <td>analysis_sandbox</td>\n",
       "      <td>20240819_wp_mid_email_after_dedupe</td>\n",
       "      <td>PersonGoldenCopyID</td>\n",
       "      <td>0</td>\n",
       "      <td>NaN</td>\n",
       "      <td>YES</td>\n",
       "      <td>bigint</td>\n",
       "      <td>LONG</td>\n",
       "      <td>NaN</td>\n",
       "      <td>...</td>\n",
       "      <td>NaN</td>\n",
       "      <td>NaN</td>\n",
       "      <td>NO</td>\n",
       "      <td>NaN</td>\n",
       "      <td>NO</td>\n",
       "      <td>NO</td>\n",
       "      <td>NaN</td>\n",
       "      <td>YES</td>\n",
       "      <td>NaN</td>\n",
       "      <td>NaN</td>\n",
       "    </tr>\n",
       "    <tr>\n",
       "      <th>1</th>\n",
       "      <td>domgen_prod</td>\n",
       "      <td>analysis_sandbox</td>\n",
       "      <td>20240819_wp_mid_email_after_dedupe</td>\n",
       "      <td>PersonDimensionID</td>\n",
       "      <td>1</td>\n",
       "      <td>NaN</td>\n",
       "      <td>YES</td>\n",
       "      <td>bigint</td>\n",
       "      <td>LONG</td>\n",
       "      <td>NaN</td>\n",
       "      <td>...</td>\n",
       "      <td>NaN</td>\n",
       "      <td>NaN</td>\n",
       "      <td>NO</td>\n",
       "      <td>NaN</td>\n",
       "      <td>NO</td>\n",
       "      <td>NO</td>\n",
       "      <td>NaN</td>\n",
       "      <td>YES</td>\n",
       "      <td>NaN</td>\n",
       "      <td>NaN</td>\n",
       "    </tr>\n",
       "    <tr>\n",
       "      <th>2</th>\n",
       "      <td>domgen_prod</td>\n",
       "      <td>analysis_sandbox</td>\n",
       "      <td>20240819_wp_mid_email_end</td>\n",
       "      <td>PERSONGOLDENCOPYID</td>\n",
       "      <td>0</td>\n",
       "      <td>NaN</td>\n",
       "      <td>YES</td>\n",
       "      <td>bigint</td>\n",
       "      <td>LONG</td>\n",
       "      <td>NaN</td>\n",
       "      <td>...</td>\n",
       "      <td>NaN</td>\n",
       "      <td>NaN</td>\n",
       "      <td>NO</td>\n",
       "      <td>NaN</td>\n",
       "      <td>NO</td>\n",
       "      <td>NO</td>\n",
       "      <td>NaN</td>\n",
       "      <td>YES</td>\n",
       "      <td>NaN</td>\n",
       "      <td>NaN</td>\n",
       "    </tr>\n",
       "    <tr>\n",
       "      <th>3</th>\n",
       "      <td>domgen_prod</td>\n",
       "      <td>analysis_sandbox</td>\n",
       "      <td>20240819_wp_mid_email_end</td>\n",
       "      <td>PERSONDIMENSIONID</td>\n",
       "      <td>1</td>\n",
       "      <td>NaN</td>\n",
       "      <td>YES</td>\n",
       "      <td>bigint</td>\n",
       "      <td>LONG</td>\n",
       "      <td>NaN</td>\n",
       "      <td>...</td>\n",
       "      <td>NaN</td>\n",
       "      <td>NaN</td>\n",
       "      <td>NO</td>\n",
       "      <td>NaN</td>\n",
       "      <td>NO</td>\n",
       "      <td>NO</td>\n",
       "      <td>NaN</td>\n",
       "      <td>YES</td>\n",
       "      <td>NaN</td>\n",
       "      <td>NaN</td>\n",
       "    </tr>\n",
       "    <tr>\n",
       "      <th>4</th>\n",
       "      <td>domgen_prod</td>\n",
       "      <td>analysis_sandbox</td>\n",
       "      <td>ac_dm_clm_reporting</td>\n",
       "      <td>offer_month</td>\n",
       "      <td>0</td>\n",
       "      <td>NaN</td>\n",
       "      <td>YES</td>\n",
       "      <td>date</td>\n",
       "      <td>DATE</td>\n",
       "      <td>NaN</td>\n",
       "      <td>...</td>\n",
       "      <td>NaN</td>\n",
       "      <td>NaN</td>\n",
       "      <td>NO</td>\n",
       "      <td>NaN</td>\n",
       "      <td>NO</td>\n",
       "      <td>NO</td>\n",
       "      <td>NaN</td>\n",
       "      <td>YES</td>\n",
       "      <td>NaN</td>\n",
       "      <td>NaN</td>\n",
       "    </tr>\n",
       "  </tbody>\n",
       "</table>\n",
       "<p>5 rows × 33 columns</p>\n",
       "</div>"
      ],
      "text/plain": [
       "  table_catalog      table_schema                          table_name  \\\n",
       "0   domgen_prod  analysis_sandbox  20240819_wp_mid_email_after_dedupe   \n",
       "1   domgen_prod  analysis_sandbox  20240819_wp_mid_email_after_dedupe   \n",
       "2   domgen_prod  analysis_sandbox           20240819_wp_mid_email_end   \n",
       "3   domgen_prod  analysis_sandbox           20240819_wp_mid_email_end   \n",
       "4   domgen_prod  analysis_sandbox                 ac_dm_clm_reporting   \n",
       "\n",
       "          column_name  ordinal_position  column_default is_nullable  \\\n",
       "0  PersonGoldenCopyID                 0             NaN         YES   \n",
       "1   PersonDimensionID                 1             NaN         YES   \n",
       "2  PERSONGOLDENCOPYID                 0             NaN         YES   \n",
       "3   PERSONDIMENSIONID                 1             NaN         YES   \n",
       "4         offer_month                 0             NaN         YES   \n",
       "\n",
       "  full_data_type data_type  character_maximum_length  ...  identity_minimum  \\\n",
       "0         bigint      LONG                       NaN  ...               NaN   \n",
       "1         bigint      LONG                       NaN  ...               NaN   \n",
       "2         bigint      LONG                       NaN  ...               NaN   \n",
       "3         bigint      LONG                       NaN  ...               NaN   \n",
       "4           date      DATE                       NaN  ...               NaN   \n",
       "\n",
       "   identity_cycle  is_generated  generation_expression  \\\n",
       "0             NaN            NO                    NaN   \n",
       "1             NaN            NO                    NaN   \n",
       "2             NaN            NO                    NaN   \n",
       "3             NaN            NO                    NaN   \n",
       "4             NaN            NO                    NaN   \n",
       "\n",
       "   is_system_time_period_start  is_system_time_period_end  \\\n",
       "0                           NO                         NO   \n",
       "1                           NO                         NO   \n",
       "2                           NO                         NO   \n",
       "3                           NO                         NO   \n",
       "4                           NO                         NO   \n",
       "\n",
       "   system_time_period_timestamp_generation  is_updatable partition_index  \\\n",
       "0                                      NaN           YES             NaN   \n",
       "1                                      NaN           YES             NaN   \n",
       "2                                      NaN           YES             NaN   \n",
       "3                                      NaN           YES             NaN   \n",
       "4                                      NaN           YES             NaN   \n",
       "\n",
       "   comment  \n",
       "0      NaN  \n",
       "1      NaN  \n",
       "2      NaN  \n",
       "3      NaN  \n",
       "4      NaN  \n",
       "\n",
       "[5 rows x 33 columns]"
      ]
     },
     "execution_count": 34,
     "metadata": {},
     "output_type": "execute_result"
    }
   ],
   "source": [
    "df_data.head()"
   ]
  },
  {
   "cell_type": "code",
   "execution_count": 38,
   "id": "fce0a401",
   "metadata": {},
   "outputs": [
    {
     "data": {
      "application/vnd.microsoft.datawrangler.viewer.v0+json": {
       "columns": [
        {
         "name": "index",
         "rawType": "int64",
         "type": "integer"
        },
        {
         "name": "table_name",
         "rawType": "object",
         "type": "string"
        },
        {
         "name": "column_name",
         "rawType": "object",
         "type": "string"
        },
        {
         "name": "count",
         "rawType": "int64",
         "type": "integer"
        },
        {
         "name": "mean",
         "rawType": "float64",
         "type": "float"
        },
        {
         "name": "stddev",
         "rawType": "float64",
         "type": "float"
        },
        {
         "name": "min",
         "rawType": "object",
         "type": "string"
        },
        {
         "name": "max",
         "rawType": "object",
         "type": "string"
        }
       ],
       "conversionMethod": "pd.DataFrame",
       "ref": "33f80f0a-2c1c-4c0a-8874-9acd5c95882c",
       "rows": [
        [
         "0",
         "domgen_prod.bronze_orbit.service_provider",
         "ServiceProviderID",
         "580",
         "1734.358621",
         "483.2148197",
         "1062",
         "2320"
        ],
        [
         "1",
         "domgen_prod.bronze_orbit.service_provider",
         "AddressLookupID",
         "580",
         "0.977586207",
         "0.323806752",
         "0",
         "3"
        ],
        [
         "2",
         "domgen_prod.bronze_orbit.service_provider",
         "CompanyName",
         "580",
         null,
         null,
         "CompanyName",
         "CompanyName"
        ],
        [
         "3",
         "domgen_prod.bronze_orbit.service_provider",
         "Acronym",
         "580",
         null,
         null,
         "** PRODUCT REPLACEMENT **",
         "vaillant"
        ],
        [
         "4",
         "domgen_prod.bronze_orbit.service_provider",
         "BuildingNameNumber",
         "216",
         "75.0",
         "124.7076581",
         "BuildingNameNumber",
         "BuildingNameNumber"
        ]
       ],
       "shape": {
        "columns": 7,
        "rows": 5
       }
      },
      "text/html": [
       "<div>\n",
       "<style scoped>\n",
       "    .dataframe tbody tr th:only-of-type {\n",
       "        vertical-align: middle;\n",
       "    }\n",
       "\n",
       "    .dataframe tbody tr th {\n",
       "        vertical-align: top;\n",
       "    }\n",
       "\n",
       "    .dataframe thead th {\n",
       "        text-align: right;\n",
       "    }\n",
       "</style>\n",
       "<table border=\"1\" class=\"dataframe\">\n",
       "  <thead>\n",
       "    <tr style=\"text-align: right;\">\n",
       "      <th></th>\n",
       "      <th>table_name</th>\n",
       "      <th>column_name</th>\n",
       "      <th>count</th>\n",
       "      <th>mean</th>\n",
       "      <th>stddev</th>\n",
       "      <th>min</th>\n",
       "      <th>max</th>\n",
       "    </tr>\n",
       "  </thead>\n",
       "  <tbody>\n",
       "    <tr>\n",
       "      <th>0</th>\n",
       "      <td>domgen_prod.bronze_orbit.service_provider</td>\n",
       "      <td>ServiceProviderID</td>\n",
       "      <td>580</td>\n",
       "      <td>1734.358621</td>\n",
       "      <td>483.214820</td>\n",
       "      <td>1062</td>\n",
       "      <td>2320</td>\n",
       "    </tr>\n",
       "    <tr>\n",
       "      <th>1</th>\n",
       "      <td>domgen_prod.bronze_orbit.service_provider</td>\n",
       "      <td>AddressLookupID</td>\n",
       "      <td>580</td>\n",
       "      <td>0.977586</td>\n",
       "      <td>0.323807</td>\n",
       "      <td>0</td>\n",
       "      <td>3</td>\n",
       "    </tr>\n",
       "    <tr>\n",
       "      <th>2</th>\n",
       "      <td>domgen_prod.bronze_orbit.service_provider</td>\n",
       "      <td>CompanyName</td>\n",
       "      <td>580</td>\n",
       "      <td>NaN</td>\n",
       "      <td>NaN</td>\n",
       "      <td>CompanyName</td>\n",
       "      <td>CompanyName</td>\n",
       "    </tr>\n",
       "    <tr>\n",
       "      <th>3</th>\n",
       "      <td>domgen_prod.bronze_orbit.service_provider</td>\n",
       "      <td>Acronym</td>\n",
       "      <td>580</td>\n",
       "      <td>NaN</td>\n",
       "      <td>NaN</td>\n",
       "      <td>** PRODUCT REPLACEMENT **</td>\n",
       "      <td>vaillant</td>\n",
       "    </tr>\n",
       "    <tr>\n",
       "      <th>4</th>\n",
       "      <td>domgen_prod.bronze_orbit.service_provider</td>\n",
       "      <td>BuildingNameNumber</td>\n",
       "      <td>216</td>\n",
       "      <td>75.000000</td>\n",
       "      <td>124.707658</td>\n",
       "      <td>BuildingNameNumber</td>\n",
       "      <td>BuildingNameNumber</td>\n",
       "    </tr>\n",
       "  </tbody>\n",
       "</table>\n",
       "</div>"
      ],
      "text/plain": [
       "                                  table_name         column_name  count  \\\n",
       "0  domgen_prod.bronze_orbit.service_provider   ServiceProviderID    580   \n",
       "1  domgen_prod.bronze_orbit.service_provider     AddressLookupID    580   \n",
       "2  domgen_prod.bronze_orbit.service_provider         CompanyName    580   \n",
       "3  domgen_prod.bronze_orbit.service_provider             Acronym    580   \n",
       "4  domgen_prod.bronze_orbit.service_provider  BuildingNameNumber    216   \n",
       "\n",
       "          mean      stddev                        min                 max  \n",
       "0  1734.358621  483.214820                       1062                2320  \n",
       "1     0.977586    0.323807                          0                   3  \n",
       "2          NaN         NaN                CompanyName         CompanyName  \n",
       "3          NaN         NaN  ** PRODUCT REPLACEMENT **            vaillant  \n",
       "4    75.000000  124.707658         BuildingNameNumber  BuildingNameNumber  "
      ]
     },
     "execution_count": 38,
     "metadata": {},
     "output_type": "execute_result"
    }
   ],
   "source": [
    "df_stats.head()"
   ]
  },
  {
   "cell_type": "code",
   "execution_count": 36,
   "id": "b7d4522d",
   "metadata": {},
   "outputs": [
    {
     "name": "stdout",
     "output_type": "stream",
     "text": [
      "0\n"
     ]
    }
   ],
   "source": [
    "matching_keys = set(df_data['table_name']).intersection(set(df_stats['table_name']))\n",
    "print(len(matching_keys))"
   ]
  },
  {
   "cell_type": "code",
   "execution_count": 37,
   "id": "b503af39",
   "metadata": {},
   "outputs": [
    {
     "name": "stdout",
     "output_type": "stream",
     "text": [
      "2038\n"
     ]
    }
   ],
   "source": [
    "matching_column_keys = set(df_data['column_name']).intersection(set(df_stats['column_name']))\n",
    "print(len(matching_column_keys))"
   ]
  }
 ],
 "metadata": {
  "kernelspec": {
   "display_name": ".venv",
   "language": "python",
   "name": "python3"
  },
  "language_info": {
   "codemirror_mode": {
    "name": "ipython",
    "version": 3
   },
   "file_extension": ".py",
   "mimetype": "text/x-python",
   "name": "python",
   "nbconvert_exporter": "python",
   "pygments_lexer": "ipython3",
   "version": "3.13.3"
  }
 },
 "nbformat": 4,
 "nbformat_minor": 5
}
